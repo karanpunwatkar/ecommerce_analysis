{
 "cells": [
  {
   "cell_type": "code",
   "execution_count": 1,
   "metadata": {},
   "outputs": [
    {
     "name": "stdout",
     "output_type": "stream",
     "text": [
      "✅ Lookalike Model Completed! File saved as Karan_Punwatkar_Lookalike.csv\n"
     ]
    }
   ],
   "source": [
    "# Import necessary libraries\n",
    "import pandas as pd\n",
    "import numpy as np\n",
    "from sklearn.preprocessing import StandardScaler\n",
    "from sklearn.metrics.pairwise import cosine_similarity\n",
    "\n",
    "# ---------------------- 1️⃣ LOAD DATA ---------------------- #\n",
    "# Read the datasets\n",
    "customers = pd.read_csv(\"../data/Customers.csv\")\n",
    "transactions = pd.read_csv(\"../data/Transactions.csv\")\n",
    "\n",
    "# Convert transaction date to datetime\n",
    "transactions['TransactionDate'] = pd.to_datetime(transactions['TransactionDate'])\n",
    "\n",
    "# ---------------------- 2️⃣ MERGE CUSTOMER & TRANSACTION DATA ---------------------- #\n",
    "# Aggregate transaction data per customer\n",
    "customer_txn = transactions.groupby(\"CustomerID\").agg(\n",
    "    Total_Spend=('TotalValue', 'sum'),  # Total amount spent\n",
    "    Avg_Spend=('TotalValue', 'mean'),   # Average spend per transaction\n",
    "    Num_Transactions=('TransactionID', 'count'),  # Total transactions\n",
    "    Total_Quantity=('Quantity', 'sum')  # Total products bought\n",
    ").reset_index()\n",
    "\n",
    "# Merge customer details\n",
    "df = pd.merge(customers, customer_txn, on=\"CustomerID\", how=\"left\").fillna(0)\n",
    "\n",
    "# ---------------------- 3️⃣ FEATURE ENGINEERING ---------------------- #\n",
    "# Drop non-numeric columns (like CustomerName) before similarity calculation\n",
    "df = df.drop(columns=['CustomerName'])\n",
    "\n",
    "# Encode categorical data (Region) using one-hot encoding\n",
    "df = pd.get_dummies(df, columns=['Region'], drop_first=True)\n",
    "\n",
    "# Select only numeric features\n",
    "features = ['Total_Spend', 'Avg_Spend', 'Num_Transactions', 'Total_Quantity']\n",
    "df_numeric = df[features]\n",
    "\n",
    "# Scale numerical features\n",
    "scaler = StandardScaler()\n",
    "df_numeric = scaler.fit_transform(df_numeric)\n",
    "\n",
    "# Convert back to DataFrame\n",
    "df_numeric = pd.DataFrame(df_numeric, index=df.index, columns=features)\n",
    "\n",
    "# ---------------------- 4️⃣ COMPUTE SIMILARITY ---------------------- #\n",
    "# Compute Cosine Similarity\n",
    "similarity_matrix = cosine_similarity(df_numeric)\n",
    "\n",
    "# Convert similarity matrix into a DataFrame\n",
    "similarity_df = pd.DataFrame(similarity_matrix, index=df.index, columns=df.index)\n",
    "\n",
    "# ---------------------- 5️⃣ FIND TOP 3 LOOKALIKES ---------------------- #\n",
    "# Function to get top 3 similar customers\n",
    "def get_top_lookalikes(customer_id, top_n=3):\n",
    "    if customer_id in similarity_df.index:\n",
    "        sim_scores = similarity_df[customer_id].drop(customer_id)  # Remove self similarity\n",
    "        return sim_scores.nlargest(top_n).reset_index().values.tolist()\n",
    "    else:\n",
    "        return []  # Return empty if customer is not found\n",
    "\n",
    "# Find lookalikes for the first 20 customers (C0001 - C0020)\n",
    "lookalike_dict = {}\n",
    "for customer_id in df.index[:20]:  # First 20 customers\n",
    "    lookalikes = get_top_lookalikes(customer_id)\n",
    "    lookalike_dict[customer_id] = lookalikes\n",
    "\n",
    "# ---------------------- 6️⃣ SAVE OUTPUT TO CSV ---------------------- #\n",
    "# Convert dictionary to DataFrame\n",
    "lookalike_list = []\n",
    "for cust_id, lookalikes in lookalike_dict.items():\n",
    "    for similar_cust, score in lookalikes:\n",
    "        lookalike_list.append([cust_id, similar_cust, round(score, 4)])\n",
    "\n",
    "lookalike_df = pd.DataFrame(lookalike_list, columns=[\"CustomerID\", \"LookalikeID\", \"SimilarityScore\"])\n",
    "lookalike_df.to_csv(\"../output/Karan_Punwatkar_Lookalike.csv\", index=False)\n",
    "\n",
    "print(\"✅ Lookalike Model Completed! File saved as Karan_Punwatkar_Lookalike.csv\")\n"
   ]
  }
 ],
 "metadata": {
  "kernelspec": {
   "display_name": "Python 3",
   "language": "python",
   "name": "python3"
  },
  "language_info": {
   "codemirror_mode": {
    "name": "ipython",
    "version": 3
   },
   "file_extension": ".py",
   "mimetype": "text/x-python",
   "name": "python",
   "nbconvert_exporter": "python",
   "pygments_lexer": "ipython3",
   "version": "3.13.1"
  }
 },
 "nbformat": 4,
 "nbformat_minor": 2
}
